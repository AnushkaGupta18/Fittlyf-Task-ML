{
  "nbformat": 4,
  "nbformat_minor": 0,
  "metadata": {
    "colab": {
      "provenance": [],
      "mount_file_id": "1JZJvThaiJ9wh3DBriDcxW0CpVn0Aj4A8",
      "authorship_tag": "ABX9TyMLkvkOr6oZ58P8EDk/bu56"
    },
    "kernelspec": {
      "name": "python3",
      "display_name": "Python 3"
    },
    "language_info": {
      "name": "python"
    }
  },
  "cells": [
    {
      "cell_type": "markdown",
      "source": [
        "# **Fittlyf Data Science Assignment**\n",
        "This python notebook contains the seven assignements/tasks given during the interview process of Fittlyf for the position of a Data Science Intern. \n"
      ],
      "metadata": {
        "id": "jDpY6pc23l2G"
      }
    },
    {
      "cell_type": "markdown",
      "source": [
        "## *Importing the dependencies:*"
      ],
      "metadata": {
        "id": "odxtJ1BC4AOz"
      }
    },
    {
      "cell_type": "code",
      "execution_count": 1,
      "metadata": {
        "id": "crTJtMTtCqBY"
      },
      "outputs": [],
      "source": [
        "import numpy as np\n",
        "import pandas as pd\n",
        "import matplotlib.pyplot as plt\n",
        "import seaborn as sns\n",
        "import matplotlib\n",
        "%matplotlib inline"
      ]
    },
    {
      "cell_type": "code",
      "source": [
        "sns.set_style('darkgrid')\n",
        "matplotlib.rcParams['font.size'] = 14\n",
        "matplotlib.rcParams['figure.figsize'] = (10, 6)\n",
        "matplotlib.rcParams['figure.facecolor'] = '#00000000'"
      ],
      "metadata": {
        "id": "JfAmtYekD8Kb"
      },
      "execution_count": 2,
      "outputs": []
    },
    {
      "cell_type": "markdown",
      "source": [
        "## *Reading the data:*"
      ],
      "metadata": {
        "id": "orXkRH8O4JlI"
      }
    },
    {
      "cell_type": "markdown",
      "source": [
        "Taking the given data \"unemployment_analysis.csv\" as input, as a pandas dataframe:"
      ],
      "metadata": {
        "id": "sDUAvNv_4fxB"
      }
    },
    {
      "cell_type": "code",
      "source": [
        "df = pd.read_csv('/content/unemployment_analysis.csv')"
      ],
      "metadata": {
        "id": "k38G-QpGEBnw"
      },
      "execution_count": 3,
      "outputs": []
    },
    {
      "cell_type": "markdown",
      "source": [
        "Converting strings into floats (6.8 lacs to 6.8) for all the columns containing years: "
      ],
      "metadata": {
        "id": "VsjzkHdT4tVh"
      }
    },
    {
      "cell_type": "markdown",
      "source": [
        "*Here, we define a function 'convert_to_float' which takes a string as input, and then splits the strings on the whitespace. It, then converts the first part of the string into a float and returns it.*"
      ],
      "metadata": {
        "id": "PluhMj_L8s36"
      }
    },
    {
      "cell_type": "code",
      "source": [
        "def convert_to_float(year_str):\n",
        "    try:\n",
        "        return float(year_str.split()[0])\n",
        "    except:\n",
        "        return year_str"
      ],
      "metadata": {
        "id": "GMgRDIVm3h1r"
      },
      "execution_count": 4,
      "outputs": []
    },
    {
      "cell_type": "markdown",
      "source": [
        "*Now, for every column where the column name is numeric, we apply the 'convert_to_float' function.*"
      ],
      "metadata": {
        "id": "OVnmr2LD9I1Q"
      }
    },
    {
      "cell_type": "code",
      "source": [
        "for column in df.columns:\n",
        "    if column.isnumeric():\n",
        "        df[column] = df[column].apply(convert_to_float)"
      ],
      "metadata": {
        "id": "8Q7qDnrr8eR2"
      },
      "execution_count": 5,
      "outputs": []
    },
    {
      "cell_type": "markdown",
      "source": [
        "*Below is the dataframe where all the year-strings have been converted into float values.*"
      ],
      "metadata": {
        "id": "vFKiIpWg9TXH"
      }
    },
    {
      "cell_type": "code",
      "source": [
        "df"
      ],
      "metadata": {
        "colab": {
          "base_uri": "https://localhost:8080/",
          "height": 423
        },
        "id": "dfG2gB288gbH",
        "outputId": "4a08f5b1-b886-443f-e37b-be10758aab5b"
      },
      "execution_count": 8,
      "outputs": [
        {
          "output_type": "execute_result",
          "data": {
            "text/plain": [
              "                    Country Name Country Code   1991   1992   1993   1994  \\\n",
              "0    Africa Eastern and Southern          AFE   7.80   7.84   7.85   7.84   \n",
              "1                    Afghanistan          AFG  10.65  10.82  10.72  10.73   \n",
              "2     Africa Western and Central          AFW   4.42   4.53   4.55   4.54   \n",
              "3                         Angola          AGO   4.21   4.21   4.23   4.16   \n",
              "4                        Albania          ALB  10.31  30.01  25.26  20.84   \n",
              "..                           ...          ...    ...    ...    ...    ...   \n",
              "230                        Samoa          WSM   2.10   2.38   2.63   3.04   \n",
              "231                  Yemen, Rep.          YEM   8.32   8.31   8.35   8.34   \n",
              "232                 South Africa          ZAF  29.95  29.98  29.92  29.89   \n",
              "233                       Zambia          ZMB  18.90  19.37  19.70  18.43   \n",
              "234                     Zimbabwe          ZWE   4.94   4.99   4.97   4.96   \n",
              "\n",
              "      1995   1996   1997   1998  ...   2012   2013   2014   2015   2016  \\\n",
              "0     7.83   7.84   7.86   7.81  ...   6.56   6.45   6.41   6.49   6.61   \n",
              "1    11.18  10.96  10.78  10.80  ...  11.34  11.19  11.14  11.13  11.16   \n",
              "2     4.53   4.57   4.60   4.66  ...   4.64   4.41   4.69   4.63   5.57   \n",
              "3     4.11   4.10   4.09   4.07  ...   7.35   7.37   7.37   7.39   7.41   \n",
              "4    14.61  13.93  16.88  20.05  ...  13.38  15.87  18.05  17.19  15.42   \n",
              "..     ...    ...    ...    ...  ...    ...    ...    ...    ...    ...   \n",
              "230   3.19   3.47   3.90   4.18  ...   8.75   8.67   8.72   8.50   8.31   \n",
              "231   8.96   9.59  10.20  10.81  ...  13.17  13.27  13.47  13.77  13.43   \n",
              "232  29.89  29.87  29.91  29.95  ...  24.73  24.56  24.89  25.15  26.54   \n",
              "233  16.81  15.30  13.64  12.00  ...   7.85   8.61   9.36  10.13  10.87   \n",
              "234   5.63   6.25   6.93   6.46  ...   5.15   4.98   4.77   4.78   4.79   \n",
              "\n",
              "      2017   2018   2019   2020   2021  \n",
              "0     6.71   6.73   6.91   7.56   8.11  \n",
              "1    11.18  11.15  11.22  11.71  13.28  \n",
              "2     6.02   6.04   6.06   6.77   6.84  \n",
              "3     7.41   7.42   7.42   8.33   8.53  \n",
              "4    13.62  12.30  11.47  13.33  11.82  \n",
              "..     ...    ...    ...    ...    ...  \n",
              "230   8.58   8.69   8.41   9.15   9.84  \n",
              "231  13.30  13.15  13.06  13.39  13.57  \n",
              "232  27.04  26.91  28.47  29.22  33.56  \n",
              "233  11.63  12.01  12.52  12.85  13.03  \n",
              "234   4.78   4.80   4.83   5.35   5.17  \n",
              "\n",
              "[235 rows x 33 columns]"
            ],
            "text/html": [
              "\n",
              "  <div id=\"df-c92a9d99-6ccd-46f5-b029-c46b33210b58\">\n",
              "    <div class=\"colab-df-container\">\n",
              "      <div>\n",
              "<style scoped>\n",
              "    .dataframe tbody tr th:only-of-type {\n",
              "        vertical-align: middle;\n",
              "    }\n",
              "\n",
              "    .dataframe tbody tr th {\n",
              "        vertical-align: top;\n",
              "    }\n",
              "\n",
              "    .dataframe thead th {\n",
              "        text-align: right;\n",
              "    }\n",
              "</style>\n",
              "<table border=\"1\" class=\"dataframe\">\n",
              "  <thead>\n",
              "    <tr style=\"text-align: right;\">\n",
              "      <th></th>\n",
              "      <th>Country Name</th>\n",
              "      <th>Country Code</th>\n",
              "      <th>1991</th>\n",
              "      <th>1992</th>\n",
              "      <th>1993</th>\n",
              "      <th>1994</th>\n",
              "      <th>1995</th>\n",
              "      <th>1996</th>\n",
              "      <th>1997</th>\n",
              "      <th>1998</th>\n",
              "      <th>...</th>\n",
              "      <th>2012</th>\n",
              "      <th>2013</th>\n",
              "      <th>2014</th>\n",
              "      <th>2015</th>\n",
              "      <th>2016</th>\n",
              "      <th>2017</th>\n",
              "      <th>2018</th>\n",
              "      <th>2019</th>\n",
              "      <th>2020</th>\n",
              "      <th>2021</th>\n",
              "    </tr>\n",
              "  </thead>\n",
              "  <tbody>\n",
              "    <tr>\n",
              "      <th>0</th>\n",
              "      <td>Africa Eastern and Southern</td>\n",
              "      <td>AFE</td>\n",
              "      <td>7.80</td>\n",
              "      <td>7.84</td>\n",
              "      <td>7.85</td>\n",
              "      <td>7.84</td>\n",
              "      <td>7.83</td>\n",
              "      <td>7.84</td>\n",
              "      <td>7.86</td>\n",
              "      <td>7.81</td>\n",
              "      <td>...</td>\n",
              "      <td>6.56</td>\n",
              "      <td>6.45</td>\n",
              "      <td>6.41</td>\n",
              "      <td>6.49</td>\n",
              "      <td>6.61</td>\n",
              "      <td>6.71</td>\n",
              "      <td>6.73</td>\n",
              "      <td>6.91</td>\n",
              "      <td>7.56</td>\n",
              "      <td>8.11</td>\n",
              "    </tr>\n",
              "    <tr>\n",
              "      <th>1</th>\n",
              "      <td>Afghanistan</td>\n",
              "      <td>AFG</td>\n",
              "      <td>10.65</td>\n",
              "      <td>10.82</td>\n",
              "      <td>10.72</td>\n",
              "      <td>10.73</td>\n",
              "      <td>11.18</td>\n",
              "      <td>10.96</td>\n",
              "      <td>10.78</td>\n",
              "      <td>10.80</td>\n",
              "      <td>...</td>\n",
              "      <td>11.34</td>\n",
              "      <td>11.19</td>\n",
              "      <td>11.14</td>\n",
              "      <td>11.13</td>\n",
              "      <td>11.16</td>\n",
              "      <td>11.18</td>\n",
              "      <td>11.15</td>\n",
              "      <td>11.22</td>\n",
              "      <td>11.71</td>\n",
              "      <td>13.28</td>\n",
              "    </tr>\n",
              "    <tr>\n",
              "      <th>2</th>\n",
              "      <td>Africa Western and Central</td>\n",
              "      <td>AFW</td>\n",
              "      <td>4.42</td>\n",
              "      <td>4.53</td>\n",
              "      <td>4.55</td>\n",
              "      <td>4.54</td>\n",
              "      <td>4.53</td>\n",
              "      <td>4.57</td>\n",
              "      <td>4.60</td>\n",
              "      <td>4.66</td>\n",
              "      <td>...</td>\n",
              "      <td>4.64</td>\n",
              "      <td>4.41</td>\n",
              "      <td>4.69</td>\n",
              "      <td>4.63</td>\n",
              "      <td>5.57</td>\n",
              "      <td>6.02</td>\n",
              "      <td>6.04</td>\n",
              "      <td>6.06</td>\n",
              "      <td>6.77</td>\n",
              "      <td>6.84</td>\n",
              "    </tr>\n",
              "    <tr>\n",
              "      <th>3</th>\n",
              "      <td>Angola</td>\n",
              "      <td>AGO</td>\n",
              "      <td>4.21</td>\n",
              "      <td>4.21</td>\n",
              "      <td>4.23</td>\n",
              "      <td>4.16</td>\n",
              "      <td>4.11</td>\n",
              "      <td>4.10</td>\n",
              "      <td>4.09</td>\n",
              "      <td>4.07</td>\n",
              "      <td>...</td>\n",
              "      <td>7.35</td>\n",
              "      <td>7.37</td>\n",
              "      <td>7.37</td>\n",
              "      <td>7.39</td>\n",
              "      <td>7.41</td>\n",
              "      <td>7.41</td>\n",
              "      <td>7.42</td>\n",
              "      <td>7.42</td>\n",
              "      <td>8.33</td>\n",
              "      <td>8.53</td>\n",
              "    </tr>\n",
              "    <tr>\n",
              "      <th>4</th>\n",
              "      <td>Albania</td>\n",
              "      <td>ALB</td>\n",
              "      <td>10.31</td>\n",
              "      <td>30.01</td>\n",
              "      <td>25.26</td>\n",
              "      <td>20.84</td>\n",
              "      <td>14.61</td>\n",
              "      <td>13.93</td>\n",
              "      <td>16.88</td>\n",
              "      <td>20.05</td>\n",
              "      <td>...</td>\n",
              "      <td>13.38</td>\n",
              "      <td>15.87</td>\n",
              "      <td>18.05</td>\n",
              "      <td>17.19</td>\n",
              "      <td>15.42</td>\n",
              "      <td>13.62</td>\n",
              "      <td>12.30</td>\n",
              "      <td>11.47</td>\n",
              "      <td>13.33</td>\n",
              "      <td>11.82</td>\n",
              "    </tr>\n",
              "    <tr>\n",
              "      <th>...</th>\n",
              "      <td>...</td>\n",
              "      <td>...</td>\n",
              "      <td>...</td>\n",
              "      <td>...</td>\n",
              "      <td>...</td>\n",
              "      <td>...</td>\n",
              "      <td>...</td>\n",
              "      <td>...</td>\n",
              "      <td>...</td>\n",
              "      <td>...</td>\n",
              "      <td>...</td>\n",
              "      <td>...</td>\n",
              "      <td>...</td>\n",
              "      <td>...</td>\n",
              "      <td>...</td>\n",
              "      <td>...</td>\n",
              "      <td>...</td>\n",
              "      <td>...</td>\n",
              "      <td>...</td>\n",
              "      <td>...</td>\n",
              "      <td>...</td>\n",
              "    </tr>\n",
              "    <tr>\n",
              "      <th>230</th>\n",
              "      <td>Samoa</td>\n",
              "      <td>WSM</td>\n",
              "      <td>2.10</td>\n",
              "      <td>2.38</td>\n",
              "      <td>2.63</td>\n",
              "      <td>3.04</td>\n",
              "      <td>3.19</td>\n",
              "      <td>3.47</td>\n",
              "      <td>3.90</td>\n",
              "      <td>4.18</td>\n",
              "      <td>...</td>\n",
              "      <td>8.75</td>\n",
              "      <td>8.67</td>\n",
              "      <td>8.72</td>\n",
              "      <td>8.50</td>\n",
              "      <td>8.31</td>\n",
              "      <td>8.58</td>\n",
              "      <td>8.69</td>\n",
              "      <td>8.41</td>\n",
              "      <td>9.15</td>\n",
              "      <td>9.84</td>\n",
              "    </tr>\n",
              "    <tr>\n",
              "      <th>231</th>\n",
              "      <td>Yemen, Rep.</td>\n",
              "      <td>YEM</td>\n",
              "      <td>8.32</td>\n",
              "      <td>8.31</td>\n",
              "      <td>8.35</td>\n",
              "      <td>8.34</td>\n",
              "      <td>8.96</td>\n",
              "      <td>9.59</td>\n",
              "      <td>10.20</td>\n",
              "      <td>10.81</td>\n",
              "      <td>...</td>\n",
              "      <td>13.17</td>\n",
              "      <td>13.27</td>\n",
              "      <td>13.47</td>\n",
              "      <td>13.77</td>\n",
              "      <td>13.43</td>\n",
              "      <td>13.30</td>\n",
              "      <td>13.15</td>\n",
              "      <td>13.06</td>\n",
              "      <td>13.39</td>\n",
              "      <td>13.57</td>\n",
              "    </tr>\n",
              "    <tr>\n",
              "      <th>232</th>\n",
              "      <td>South Africa</td>\n",
              "      <td>ZAF</td>\n",
              "      <td>29.95</td>\n",
              "      <td>29.98</td>\n",
              "      <td>29.92</td>\n",
              "      <td>29.89</td>\n",
              "      <td>29.89</td>\n",
              "      <td>29.87</td>\n",
              "      <td>29.91</td>\n",
              "      <td>29.95</td>\n",
              "      <td>...</td>\n",
              "      <td>24.73</td>\n",
              "      <td>24.56</td>\n",
              "      <td>24.89</td>\n",
              "      <td>25.15</td>\n",
              "      <td>26.54</td>\n",
              "      <td>27.04</td>\n",
              "      <td>26.91</td>\n",
              "      <td>28.47</td>\n",
              "      <td>29.22</td>\n",
              "      <td>33.56</td>\n",
              "    </tr>\n",
              "    <tr>\n",
              "      <th>233</th>\n",
              "      <td>Zambia</td>\n",
              "      <td>ZMB</td>\n",
              "      <td>18.90</td>\n",
              "      <td>19.37</td>\n",
              "      <td>19.70</td>\n",
              "      <td>18.43</td>\n",
              "      <td>16.81</td>\n",
              "      <td>15.30</td>\n",
              "      <td>13.64</td>\n",
              "      <td>12.00</td>\n",
              "      <td>...</td>\n",
              "      <td>7.85</td>\n",
              "      <td>8.61</td>\n",
              "      <td>9.36</td>\n",
              "      <td>10.13</td>\n",
              "      <td>10.87</td>\n",
              "      <td>11.63</td>\n",
              "      <td>12.01</td>\n",
              "      <td>12.52</td>\n",
              "      <td>12.85</td>\n",
              "      <td>13.03</td>\n",
              "    </tr>\n",
              "    <tr>\n",
              "      <th>234</th>\n",
              "      <td>Zimbabwe</td>\n",
              "      <td>ZWE</td>\n",
              "      <td>4.94</td>\n",
              "      <td>4.99</td>\n",
              "      <td>4.97</td>\n",
              "      <td>4.96</td>\n",
              "      <td>5.63</td>\n",
              "      <td>6.25</td>\n",
              "      <td>6.93</td>\n",
              "      <td>6.46</td>\n",
              "      <td>...</td>\n",
              "      <td>5.15</td>\n",
              "      <td>4.98</td>\n",
              "      <td>4.77</td>\n",
              "      <td>4.78</td>\n",
              "      <td>4.79</td>\n",
              "      <td>4.78</td>\n",
              "      <td>4.80</td>\n",
              "      <td>4.83</td>\n",
              "      <td>5.35</td>\n",
              "      <td>5.17</td>\n",
              "    </tr>\n",
              "  </tbody>\n",
              "</table>\n",
              "<p>235 rows × 33 columns</p>\n",
              "</div>\n",
              "      <button class=\"colab-df-convert\" onclick=\"convertToInteractive('df-c92a9d99-6ccd-46f5-b029-c46b33210b58')\"\n",
              "              title=\"Convert this dataframe to an interactive table.\"\n",
              "              style=\"display:none;\">\n",
              "        \n",
              "  <svg xmlns=\"http://www.w3.org/2000/svg\" height=\"24px\"viewBox=\"0 0 24 24\"\n",
              "       width=\"24px\">\n",
              "    <path d=\"M0 0h24v24H0V0z\" fill=\"none\"/>\n",
              "    <path d=\"M18.56 5.44l.94 2.06.94-2.06 2.06-.94-2.06-.94-.94-2.06-.94 2.06-2.06.94zm-11 1L8.5 8.5l.94-2.06 2.06-.94-2.06-.94L8.5 2.5l-.94 2.06-2.06.94zm10 10l.94 2.06.94-2.06 2.06-.94-2.06-.94-.94-2.06-.94 2.06-2.06.94z\"/><path d=\"M17.41 7.96l-1.37-1.37c-.4-.4-.92-.59-1.43-.59-.52 0-1.04.2-1.43.59L10.3 9.45l-7.72 7.72c-.78.78-.78 2.05 0 2.83L4 21.41c.39.39.9.59 1.41.59.51 0 1.02-.2 1.41-.59l7.78-7.78 2.81-2.81c.8-.78.8-2.07 0-2.86zM5.41 20L4 18.59l7.72-7.72 1.47 1.35L5.41 20z\"/>\n",
              "  </svg>\n",
              "      </button>\n",
              "      \n",
              "  <style>\n",
              "    .colab-df-container {\n",
              "      display:flex;\n",
              "      flex-wrap:wrap;\n",
              "      gap: 12px;\n",
              "    }\n",
              "\n",
              "    .colab-df-convert {\n",
              "      background-color: #E8F0FE;\n",
              "      border: none;\n",
              "      border-radius: 50%;\n",
              "      cursor: pointer;\n",
              "      display: none;\n",
              "      fill: #1967D2;\n",
              "      height: 32px;\n",
              "      padding: 0 0 0 0;\n",
              "      width: 32px;\n",
              "    }\n",
              "\n",
              "    .colab-df-convert:hover {\n",
              "      background-color: #E2EBFA;\n",
              "      box-shadow: 0px 1px 2px rgba(60, 64, 67, 0.3), 0px 1px 3px 1px rgba(60, 64, 67, 0.15);\n",
              "      fill: #174EA6;\n",
              "    }\n",
              "\n",
              "    [theme=dark] .colab-df-convert {\n",
              "      background-color: #3B4455;\n",
              "      fill: #D2E3FC;\n",
              "    }\n",
              "\n",
              "    [theme=dark] .colab-df-convert:hover {\n",
              "      background-color: #434B5C;\n",
              "      box-shadow: 0px 1px 3px 1px rgba(0, 0, 0, 0.15);\n",
              "      filter: drop-shadow(0px 1px 2px rgba(0, 0, 0, 0.3));\n",
              "      fill: #FFFFFF;\n",
              "    }\n",
              "  </style>\n",
              "\n",
              "      <script>\n",
              "        const buttonEl =\n",
              "          document.querySelector('#df-c92a9d99-6ccd-46f5-b029-c46b33210b58 button.colab-df-convert');\n",
              "        buttonEl.style.display =\n",
              "          google.colab.kernel.accessAllowed ? 'block' : 'none';\n",
              "\n",
              "        async function convertToInteractive(key) {\n",
              "          const element = document.querySelector('#df-c92a9d99-6ccd-46f5-b029-c46b33210b58');\n",
              "          const dataTable =\n",
              "            await google.colab.kernel.invokeFunction('convertToInteractive',\n",
              "                                                     [key], {});\n",
              "          if (!dataTable) return;\n",
              "\n",
              "          const docLinkHtml = 'Like what you see? Visit the ' +\n",
              "            '<a target=\"_blank\" href=https://colab.research.google.com/notebooks/data_table.ipynb>data table notebook</a>'\n",
              "            + ' to learn more about interactive tables.';\n",
              "          element.innerHTML = '';\n",
              "          dataTable['output_type'] = 'display_data';\n",
              "          await google.colab.output.renderOutput(dataTable, element);\n",
              "          const docLink = document.createElement('div');\n",
              "          docLink.innerHTML = docLinkHtml;\n",
              "          element.appendChild(docLink);\n",
              "        }\n",
              "      </script>\n",
              "    </div>\n",
              "  </div>\n",
              "  "
            ]
          },
          "metadata": {},
          "execution_count": 8
        }
      ]
    },
    {
      "cell_type": "markdown",
      "source": [
        "Displaying the column names with their datatypes: "
      ],
      "metadata": {
        "id": "uLHhZECN9eCL"
      }
    },
    {
      "cell_type": "code",
      "source": [
        "print(df.dtypes)"
      ],
      "metadata": {
        "colab": {
          "base_uri": "https://localhost:8080/"
        },
        "id": "SbAhcgUL8h3n",
        "outputId": "e7105fbc-519f-44b7-fcfc-7dd77332aae5"
      },
      "execution_count": 7,
      "outputs": [
        {
          "output_type": "stream",
          "name": "stdout",
          "text": [
            "Country Name     object\n",
            "Country Code     object\n",
            "1991            float64\n",
            "1992            float64\n",
            "1993            float64\n",
            "1994            float64\n",
            "1995            float64\n",
            "1996            float64\n",
            "1997            float64\n",
            "1998            float64\n",
            "1999            float64\n",
            "2000            float64\n",
            "2001            float64\n",
            "2002            float64\n",
            "2003            float64\n",
            "2004            float64\n",
            "2005            float64\n",
            "2006            float64\n",
            "2007            float64\n",
            "2008            float64\n",
            "2009            float64\n",
            "2010            float64\n",
            "2011            float64\n",
            "2012            float64\n",
            "2013            float64\n",
            "2014            float64\n",
            "2015            float64\n",
            "2016            float64\n",
            "2017            float64\n",
            "2018            float64\n",
            "2019            float64\n",
            "2020            float64\n",
            "2021            float64\n",
            "dtype: object\n"
          ]
        }
      ]
    },
    {
      "cell_type": "markdown",
      "source": [
        "Generating the unique country names along with their corresponding country code: "
      ],
      "metadata": {
        "id": "6529drLW-RWb"
      }
    },
    {
      "cell_type": "markdown",
      "source": [
        "*Here, we create a new pandas dataframe named 'country_df' which contains only two coumns, country name and country code.*"
      ],
      "metadata": {
        "id": "teXB7tyQ-65g"
      }
    },
    {
      "cell_type": "code",
      "source": [
        "country_df = df[['Country Name', 'Country Code']]"
      ],
      "metadata": {
        "id": "JNLicz2S-GK1"
      },
      "execution_count": 9,
      "outputs": []
    },
    {
      "cell_type": "markdown",
      "source": [
        "*We will drop the duplicate row values from the columns to generate only unique values of country name/code.*"
      ],
      "metadata": {
        "id": "46pv0wqR_FQr"
      }
    },
    {
      "cell_type": "code",
      "source": [
        "country_df = country_df.drop_duplicates()\n",
        "country_df"
      ],
      "metadata": {
        "colab": {
          "base_uri": "https://localhost:8080/",
          "height": 423
        },
        "id": "THrW2PQe-57T",
        "outputId": "5178e88f-5007-4c99-f82f-f9a94b123e46"
      },
      "execution_count": 11,
      "outputs": [
        {
          "output_type": "execute_result",
          "data": {
            "text/plain": [
              "                    Country Name Country Code\n",
              "0    Africa Eastern and Southern          AFE\n",
              "1                    Afghanistan          AFG\n",
              "2     Africa Western and Central          AFW\n",
              "3                         Angola          AGO\n",
              "4                        Albania          ALB\n",
              "..                           ...          ...\n",
              "230                        Samoa          WSM\n",
              "231                  Yemen, Rep.          YEM\n",
              "232                 South Africa          ZAF\n",
              "233                       Zambia          ZMB\n",
              "234                     Zimbabwe          ZWE\n",
              "\n",
              "[235 rows x 2 columns]"
            ],
            "text/html": [
              "\n",
              "  <div id=\"df-98773cf8-592d-4c28-9b32-8766245aab6e\">\n",
              "    <div class=\"colab-df-container\">\n",
              "      <div>\n",
              "<style scoped>\n",
              "    .dataframe tbody tr th:only-of-type {\n",
              "        vertical-align: middle;\n",
              "    }\n",
              "\n",
              "    .dataframe tbody tr th {\n",
              "        vertical-align: top;\n",
              "    }\n",
              "\n",
              "    .dataframe thead th {\n",
              "        text-align: right;\n",
              "    }\n",
              "</style>\n",
              "<table border=\"1\" class=\"dataframe\">\n",
              "  <thead>\n",
              "    <tr style=\"text-align: right;\">\n",
              "      <th></th>\n",
              "      <th>Country Name</th>\n",
              "      <th>Country Code</th>\n",
              "    </tr>\n",
              "  </thead>\n",
              "  <tbody>\n",
              "    <tr>\n",
              "      <th>0</th>\n",
              "      <td>Africa Eastern and Southern</td>\n",
              "      <td>AFE</td>\n",
              "    </tr>\n",
              "    <tr>\n",
              "      <th>1</th>\n",
              "      <td>Afghanistan</td>\n",
              "      <td>AFG</td>\n",
              "    </tr>\n",
              "    <tr>\n",
              "      <th>2</th>\n",
              "      <td>Africa Western and Central</td>\n",
              "      <td>AFW</td>\n",
              "    </tr>\n",
              "    <tr>\n",
              "      <th>3</th>\n",
              "      <td>Angola</td>\n",
              "      <td>AGO</td>\n",
              "    </tr>\n",
              "    <tr>\n",
              "      <th>4</th>\n",
              "      <td>Albania</td>\n",
              "      <td>ALB</td>\n",
              "    </tr>\n",
              "    <tr>\n",
              "      <th>...</th>\n",
              "      <td>...</td>\n",
              "      <td>...</td>\n",
              "    </tr>\n",
              "    <tr>\n",
              "      <th>230</th>\n",
              "      <td>Samoa</td>\n",
              "      <td>WSM</td>\n",
              "    </tr>\n",
              "    <tr>\n",
              "      <th>231</th>\n",
              "      <td>Yemen, Rep.</td>\n",
              "      <td>YEM</td>\n",
              "    </tr>\n",
              "    <tr>\n",
              "      <th>232</th>\n",
              "      <td>South Africa</td>\n",
              "      <td>ZAF</td>\n",
              "    </tr>\n",
              "    <tr>\n",
              "      <th>233</th>\n",
              "      <td>Zambia</td>\n",
              "      <td>ZMB</td>\n",
              "    </tr>\n",
              "    <tr>\n",
              "      <th>234</th>\n",
              "      <td>Zimbabwe</td>\n",
              "      <td>ZWE</td>\n",
              "    </tr>\n",
              "  </tbody>\n",
              "</table>\n",
              "<p>235 rows × 2 columns</p>\n",
              "</div>\n",
              "      <button class=\"colab-df-convert\" onclick=\"convertToInteractive('df-98773cf8-592d-4c28-9b32-8766245aab6e')\"\n",
              "              title=\"Convert this dataframe to an interactive table.\"\n",
              "              style=\"display:none;\">\n",
              "        \n",
              "  <svg xmlns=\"http://www.w3.org/2000/svg\" height=\"24px\"viewBox=\"0 0 24 24\"\n",
              "       width=\"24px\">\n",
              "    <path d=\"M0 0h24v24H0V0z\" fill=\"none\"/>\n",
              "    <path d=\"M18.56 5.44l.94 2.06.94-2.06 2.06-.94-2.06-.94-.94-2.06-.94 2.06-2.06.94zm-11 1L8.5 8.5l.94-2.06 2.06-.94-2.06-.94L8.5 2.5l-.94 2.06-2.06.94zm10 10l.94 2.06.94-2.06 2.06-.94-2.06-.94-.94-2.06-.94 2.06-2.06.94z\"/><path d=\"M17.41 7.96l-1.37-1.37c-.4-.4-.92-.59-1.43-.59-.52 0-1.04.2-1.43.59L10.3 9.45l-7.72 7.72c-.78.78-.78 2.05 0 2.83L4 21.41c.39.39.9.59 1.41.59.51 0 1.02-.2 1.41-.59l7.78-7.78 2.81-2.81c.8-.78.8-2.07 0-2.86zM5.41 20L4 18.59l7.72-7.72 1.47 1.35L5.41 20z\"/>\n",
              "  </svg>\n",
              "      </button>\n",
              "      \n",
              "  <style>\n",
              "    .colab-df-container {\n",
              "      display:flex;\n",
              "      flex-wrap:wrap;\n",
              "      gap: 12px;\n",
              "    }\n",
              "\n",
              "    .colab-df-convert {\n",
              "      background-color: #E8F0FE;\n",
              "      border: none;\n",
              "      border-radius: 50%;\n",
              "      cursor: pointer;\n",
              "      display: none;\n",
              "      fill: #1967D2;\n",
              "      height: 32px;\n",
              "      padding: 0 0 0 0;\n",
              "      width: 32px;\n",
              "    }\n",
              "\n",
              "    .colab-df-convert:hover {\n",
              "      background-color: #E2EBFA;\n",
              "      box-shadow: 0px 1px 2px rgba(60, 64, 67, 0.3), 0px 1px 3px 1px rgba(60, 64, 67, 0.15);\n",
              "      fill: #174EA6;\n",
              "    }\n",
              "\n",
              "    [theme=dark] .colab-df-convert {\n",
              "      background-color: #3B4455;\n",
              "      fill: #D2E3FC;\n",
              "    }\n",
              "\n",
              "    [theme=dark] .colab-df-convert:hover {\n",
              "      background-color: #434B5C;\n",
              "      box-shadow: 0px 1px 3px 1px rgba(0, 0, 0, 0.15);\n",
              "      filter: drop-shadow(0px 1px 2px rgba(0, 0, 0, 0.3));\n",
              "      fill: #FFFFFF;\n",
              "    }\n",
              "  </style>\n",
              "\n",
              "      <script>\n",
              "        const buttonEl =\n",
              "          document.querySelector('#df-98773cf8-592d-4c28-9b32-8766245aab6e button.colab-df-convert');\n",
              "        buttonEl.style.display =\n",
              "          google.colab.kernel.accessAllowed ? 'block' : 'none';\n",
              "\n",
              "        async function convertToInteractive(key) {\n",
              "          const element = document.querySelector('#df-98773cf8-592d-4c28-9b32-8766245aab6e');\n",
              "          const dataTable =\n",
              "            await google.colab.kernel.invokeFunction('convertToInteractive',\n",
              "                                                     [key], {});\n",
              "          if (!dataTable) return;\n",
              "\n",
              "          const docLinkHtml = 'Like what you see? Visit the ' +\n",
              "            '<a target=\"_blank\" href=https://colab.research.google.com/notebooks/data_table.ipynb>data table notebook</a>'\n",
              "            + ' to learn more about interactive tables.';\n",
              "          element.innerHTML = '';\n",
              "          dataTable['output_type'] = 'display_data';\n",
              "          await google.colab.output.renderOutput(dataTable, element);\n",
              "          const docLink = document.createElement('div');\n",
              "          docLink.innerHTML = docLinkHtml;\n",
              "          element.appendChild(docLink);\n",
              "        }\n",
              "      </script>\n",
              "    </div>\n",
              "  </div>\n",
              "  "
            ]
          },
          "metadata": {},
          "execution_count": 11
        }
      ]
    },
    {
      "cell_type": "markdown",
      "source": [
        "Finding all the unemployed people throughout all the years, for each country: "
      ],
      "metadata": {
        "id": "DFI1M0lo_wEK"
      }
    },
    {
      "cell_type": "markdown",
      "source": [
        "*The function 'unemployment_sum' separates the columns having float values, and then returns the sum of all the columns, for each row, along with the corresponding country name.*"
      ],
      "metadata": {
        "id": "t1dOZCnDDrZ2"
      }
    },
    {
      "cell_type": "code",
      "source": [
        "def row_sum(row):\n",
        "    num_cols = [col for col in df.columns if col.isnumeric()]\n",
        "    row_sum = row[num_cols].sum()\n",
        "    return pd.Series({'Country Name': row['Country Name'], 'Unemployed People': row_sum})"
      ],
      "metadata": {
        "id": "5o9Hlk_d_Sw7"
      },
      "execution_count": 18,
      "outputs": []
    },
    {
      "cell_type": "markdown",
      "source": [
        "*We store the sum of all the row values in 'sums'and then print that.*"
      ],
      "metadata": {
        "id": "N3SQLXTcD7IU"
      }
    },
    {
      "cell_type": "code",
      "source": [
        "unemployment_sum_df = df.apply(row_sum, axis=1)\n",
        "unemployment_sum_df"
      ],
      "metadata": {
        "colab": {
          "base_uri": "https://localhost:8080/",
          "height": 423
        },
        "id": "Pxdh26t-Ddfu",
        "outputId": "26dcab54-2b77-4025-bf9c-f5805003eb39"
      },
      "execution_count": 20,
      "outputs": [
        {
          "output_type": "execute_result",
          "data": {
            "text/plain": [
              "                    Country Name  Unemployed People\n",
              "0    Africa Eastern and Southern             224.57\n",
              "1                    Afghanistan             345.38\n",
              "2     Africa Western and Central             153.27\n",
              "3                         Angola             169.02\n",
              "4                        Albania             505.86\n",
              "..                           ...                ...\n",
              "230                        Samoa             180.98\n",
              "231                  Yemen, Rep.             365.60\n",
              "232                 South Africa             875.21\n",
              "233                       Zambia             407.96\n",
              "234                     Zimbabwe             160.50\n",
              "\n",
              "[235 rows x 2 columns]"
            ],
            "text/html": [
              "\n",
              "  <div id=\"df-2ee678a1-c3d3-4758-85f8-ca8bcd6fa339\">\n",
              "    <div class=\"colab-df-container\">\n",
              "      <div>\n",
              "<style scoped>\n",
              "    .dataframe tbody tr th:only-of-type {\n",
              "        vertical-align: middle;\n",
              "    }\n",
              "\n",
              "    .dataframe tbody tr th {\n",
              "        vertical-align: top;\n",
              "    }\n",
              "\n",
              "    .dataframe thead th {\n",
              "        text-align: right;\n",
              "    }\n",
              "</style>\n",
              "<table border=\"1\" class=\"dataframe\">\n",
              "  <thead>\n",
              "    <tr style=\"text-align: right;\">\n",
              "      <th></th>\n",
              "      <th>Country Name</th>\n",
              "      <th>Unemployed People</th>\n",
              "    </tr>\n",
              "  </thead>\n",
              "  <tbody>\n",
              "    <tr>\n",
              "      <th>0</th>\n",
              "      <td>Africa Eastern and Southern</td>\n",
              "      <td>224.57</td>\n",
              "    </tr>\n",
              "    <tr>\n",
              "      <th>1</th>\n",
              "      <td>Afghanistan</td>\n",
              "      <td>345.38</td>\n",
              "    </tr>\n",
              "    <tr>\n",
              "      <th>2</th>\n",
              "      <td>Africa Western and Central</td>\n",
              "      <td>153.27</td>\n",
              "    </tr>\n",
              "    <tr>\n",
              "      <th>3</th>\n",
              "      <td>Angola</td>\n",
              "      <td>169.02</td>\n",
              "    </tr>\n",
              "    <tr>\n",
              "      <th>4</th>\n",
              "      <td>Albania</td>\n",
              "      <td>505.86</td>\n",
              "    </tr>\n",
              "    <tr>\n",
              "      <th>...</th>\n",
              "      <td>...</td>\n",
              "      <td>...</td>\n",
              "    </tr>\n",
              "    <tr>\n",
              "      <th>230</th>\n",
              "      <td>Samoa</td>\n",
              "      <td>180.98</td>\n",
              "    </tr>\n",
              "    <tr>\n",
              "      <th>231</th>\n",
              "      <td>Yemen, Rep.</td>\n",
              "      <td>365.60</td>\n",
              "    </tr>\n",
              "    <tr>\n",
              "      <th>232</th>\n",
              "      <td>South Africa</td>\n",
              "      <td>875.21</td>\n",
              "    </tr>\n",
              "    <tr>\n",
              "      <th>233</th>\n",
              "      <td>Zambia</td>\n",
              "      <td>407.96</td>\n",
              "    </tr>\n",
              "    <tr>\n",
              "      <th>234</th>\n",
              "      <td>Zimbabwe</td>\n",
              "      <td>160.50</td>\n",
              "    </tr>\n",
              "  </tbody>\n",
              "</table>\n",
              "<p>235 rows × 2 columns</p>\n",
              "</div>\n",
              "      <button class=\"colab-df-convert\" onclick=\"convertToInteractive('df-2ee678a1-c3d3-4758-85f8-ca8bcd6fa339')\"\n",
              "              title=\"Convert this dataframe to an interactive table.\"\n",
              "              style=\"display:none;\">\n",
              "        \n",
              "  <svg xmlns=\"http://www.w3.org/2000/svg\" height=\"24px\"viewBox=\"0 0 24 24\"\n",
              "       width=\"24px\">\n",
              "    <path d=\"M0 0h24v24H0V0z\" fill=\"none\"/>\n",
              "    <path d=\"M18.56 5.44l.94 2.06.94-2.06 2.06-.94-2.06-.94-.94-2.06-.94 2.06-2.06.94zm-11 1L8.5 8.5l.94-2.06 2.06-.94-2.06-.94L8.5 2.5l-.94 2.06-2.06.94zm10 10l.94 2.06.94-2.06 2.06-.94-2.06-.94-.94-2.06-.94 2.06-2.06.94z\"/><path d=\"M17.41 7.96l-1.37-1.37c-.4-.4-.92-.59-1.43-.59-.52 0-1.04.2-1.43.59L10.3 9.45l-7.72 7.72c-.78.78-.78 2.05 0 2.83L4 21.41c.39.39.9.59 1.41.59.51 0 1.02-.2 1.41-.59l7.78-7.78 2.81-2.81c.8-.78.8-2.07 0-2.86zM5.41 20L4 18.59l7.72-7.72 1.47 1.35L5.41 20z\"/>\n",
              "  </svg>\n",
              "      </button>\n",
              "      \n",
              "  <style>\n",
              "    .colab-df-container {\n",
              "      display:flex;\n",
              "      flex-wrap:wrap;\n",
              "      gap: 12px;\n",
              "    }\n",
              "\n",
              "    .colab-df-convert {\n",
              "      background-color: #E8F0FE;\n",
              "      border: none;\n",
              "      border-radius: 50%;\n",
              "      cursor: pointer;\n",
              "      display: none;\n",
              "      fill: #1967D2;\n",
              "      height: 32px;\n",
              "      padding: 0 0 0 0;\n",
              "      width: 32px;\n",
              "    }\n",
              "\n",
              "    .colab-df-convert:hover {\n",
              "      background-color: #E2EBFA;\n",
              "      box-shadow: 0px 1px 2px rgba(60, 64, 67, 0.3), 0px 1px 3px 1px rgba(60, 64, 67, 0.15);\n",
              "      fill: #174EA6;\n",
              "    }\n",
              "\n",
              "    [theme=dark] .colab-df-convert {\n",
              "      background-color: #3B4455;\n",
              "      fill: #D2E3FC;\n",
              "    }\n",
              "\n",
              "    [theme=dark] .colab-df-convert:hover {\n",
              "      background-color: #434B5C;\n",
              "      box-shadow: 0px 1px 3px 1px rgba(0, 0, 0, 0.15);\n",
              "      filter: drop-shadow(0px 1px 2px rgba(0, 0, 0, 0.3));\n",
              "      fill: #FFFFFF;\n",
              "    }\n",
              "  </style>\n",
              "\n",
              "      <script>\n",
              "        const buttonEl =\n",
              "          document.querySelector('#df-2ee678a1-c3d3-4758-85f8-ca8bcd6fa339 button.colab-df-convert');\n",
              "        buttonEl.style.display =\n",
              "          google.colab.kernel.accessAllowed ? 'block' : 'none';\n",
              "\n",
              "        async function convertToInteractive(key) {\n",
              "          const element = document.querySelector('#df-2ee678a1-c3d3-4758-85f8-ca8bcd6fa339');\n",
              "          const dataTable =\n",
              "            await google.colab.kernel.invokeFunction('convertToInteractive',\n",
              "                                                     [key], {});\n",
              "          if (!dataTable) return;\n",
              "\n",
              "          const docLinkHtml = 'Like what you see? Visit the ' +\n",
              "            '<a target=\"_blank\" href=https://colab.research.google.com/notebooks/data_table.ipynb>data table notebook</a>'\n",
              "            + ' to learn more about interactive tables.';\n",
              "          element.innerHTML = '';\n",
              "          dataTable['output_type'] = 'display_data';\n",
              "          await google.colab.output.renderOutput(dataTable, element);\n",
              "          const docLink = document.createElement('div');\n",
              "          docLink.innerHTML = docLinkHtml;\n",
              "          element.appendChild(docLink);\n",
              "        }\n",
              "      </script>\n",
              "    </div>\n",
              "  </div>\n",
              "  "
            ]
          },
          "metadata": {},
          "execution_count": 20
        }
      ]
    },
    {
      "cell_type": "markdown",
      "source": [
        "## *Data Cleaning:*"
      ],
      "metadata": {
        "id": "rIDFThoKGxph"
      }
    },
    {
      "cell_type": "markdown",
      "source": [
        "### **Task 1:**\n",
        "Write a function in python called data_cleaning() which, when called, would perform the following activity:\n",
        "1. Find for any missing value in all the columns, display them.\n",
        "2. If any missing value exists, then replace them with the average of the corresponding country. Then, again, check for null values.\n",
        "3. For the countries ‘Benin’, ‘Bahrain’, find if any outliers exist. If yes, replace them with mean/median/mode.\n",
        "4. Create a new column, named, “Year”, which would have all the years as per each country & beside that column, add a new one named, “No. of unemployed”, which would have the corresponding total values.\n",
        "5. Change the column name “Country Name” to “Country_name” & “Country Code” to “Country_code”."
      ],
      "metadata": {
        "id": "XNW8tbKVH7tR"
      }
    },
    {
      "cell_type": "code",
      "source": [
        "def data_cleaning(df):\n",
        "    # Check for missing values\n",
        "    missing_values = df.isnull().sum()\n",
        "    missing_cols = missing_values[missing_values > 0]\n",
        "    print(\"Missing Values:\\n\", missing_cols)"
      ],
      "metadata": {
        "id": "BbO2qcVaG3_h"
      },
      "execution_count": 61,
      "outputs": []
    },
    {
      "cell_type": "code",
      "source": [
        "data_cleaned = data_cleaning(df)"
      ],
      "metadata": {
        "colab": {
          "base_uri": "https://localhost:8080/"
        },
        "id": "WyD0aPyBSuaZ",
        "outputId": "85054ee3-3b4b-4aa0-de7f-997b8c7f0e8d"
      },
      "execution_count": 62,
      "outputs": [
        {
          "output_type": "stream",
          "name": "stdout",
          "text": [
            "Missing Values:\n",
            " 2000    1\n",
            "2015    1\n",
            "dtype: int64\n"
          ]
        }
      ]
    },
    {
      "cell_type": "code",
      "source": [],
      "metadata": {
        "id": "LWEsBGhbSzCK"
      },
      "execution_count": null,
      "outputs": []
    }
  ]
}